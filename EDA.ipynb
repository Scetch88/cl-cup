{
 "cells": [
  {
   "cell_type": "code",
   "execution_count": 1,
   "id": "e892fce8",
   "metadata": {},
   "outputs": [],
   "source": [
    "import pickle\n",
    "import pandas as pd\n",
    "import numpy as np\n",
    "import seaborn as sns\n",
    "import matplotlib.pyplot as plt"
   ]
  },
  {
   "cell_type": "code",
   "execution_count": 3,
   "id": "4fa0363b",
   "metadata": {},
   "outputs": [],
   "source": [
    "df_train = pd.read_pickle('data/prp_df.pkl')"
   ]
  },
  {
   "cell_type": "code",
   "execution_count": 6,
   "id": "02e60481",
   "metadata": {},
   "outputs": [
    {
     "data": {
      "text/html": [
       "<div>\n",
       "<style scoped>\n",
       "    .dataframe tbody tr th:only-of-type {\n",
       "        vertical-align: middle;\n",
       "    }\n",
       "\n",
       "    .dataframe tbody tr th {\n",
       "        vertical-align: top;\n",
       "    }\n",
       "\n",
       "    .dataframe thead th {\n",
       "        text-align: right;\n",
       "    }\n",
       "</style>\n",
       "<table border=\"1\" class=\"dataframe\">\n",
       "  <thead>\n",
       "    <tr style=\"text-align: right;\">\n",
       "      <th></th>\n",
       "      <th>text_id</th>\n",
       "      <th>text</th>\n",
       "      <th>comment</th>\n",
       "      <th>prp_text</th>\n",
       "      <th>prp_com</th>\n",
       "      <th>score</th>\n",
       "      <th>text_words_qty</th>\n",
       "      <th>comment_words_qty</th>\n",
       "      <th>repeat_words</th>\n",
       "      <th>repeat_rate_words</th>\n",
       "      <th>link</th>\n",
       "      <th>quoted</th>\n",
       "      <th>wr_sum</th>\n",
       "      <th>wr_len</th>\n",
       "      <th>wr_rate</th>\n",
       "      <th>wr_rate_tot</th>\n",
       "    </tr>\n",
       "  </thead>\n",
       "  <tbody>\n",
       "    <tr>\n",
       "      <th>0</th>\n",
       "      <td>1</td>\n",
       "      <td>0^0</td>\n",
       "      <td>- &amp;quot;0^0. Why? Because mathematicians said ...</td>\n",
       "      <td>0 0</td>\n",
       "      <td>quot 0 0 mathematician said really true quot d...</td>\n",
       "      <td>3</td>\n",
       "      <td>2</td>\n",
       "      <td>35</td>\n",
       "      <td>1</td>\n",
       "      <td>0.028571</td>\n",
       "      <td>0</td>\n",
       "      <td>1</td>\n",
       "      <td>300592</td>\n",
       "      <td>17</td>\n",
       "      <td>17681.882812</td>\n",
       "      <td>8588.342773</td>\n",
       "    </tr>\n",
       "    <tr>\n",
       "      <th>1</th>\n",
       "      <td>1</td>\n",
       "      <td>0^0</td>\n",
       "      <td>It&amp;#x27;s very important to note here that 0^0...</td>\n",
       "      <td>0 0</td>\n",
       "      <td>x27 important note 0 0 1 shorthand truth mathe...</td>\n",
       "      <td>0</td>\n",
       "      <td>2</td>\n",
       "      <td>174</td>\n",
       "      <td>1</td>\n",
       "      <td>0.005747</td>\n",
       "      <td>0</td>\n",
       "      <td>1</td>\n",
       "      <td>1033845</td>\n",
       "      <td>64</td>\n",
       "      <td>16153.828125</td>\n",
       "      <td>5941.637695</td>\n",
       "    </tr>\n",
       "    <tr>\n",
       "      <th>2</th>\n",
       "      <td>1</td>\n",
       "      <td>0^0</td>\n",
       "      <td>A word from Knuth on the matter (warning: PDF)...</td>\n",
       "      <td>0 0</td>\n",
       "      <td>word knuth matter warning pdf http x2f x2f arx...</td>\n",
       "      <td>4</td>\n",
       "      <td>2</td>\n",
       "      <td>19</td>\n",
       "      <td>0</td>\n",
       "      <td>0.000000</td>\n",
       "      <td>1</td>\n",
       "      <td>0</td>\n",
       "      <td>97272</td>\n",
       "      <td>7</td>\n",
       "      <td>13896.000000</td>\n",
       "      <td>5119.579102</td>\n",
       "    </tr>\n",
       "    <tr>\n",
       "      <th>3</th>\n",
       "      <td>1</td>\n",
       "      <td>0^0</td>\n",
       "      <td>Students: Let&amp;#x27;s come up with some crazy p...</td>\n",
       "      <td>0 0</td>\n",
       "      <td>student let x27 come crazy proof based individ...</td>\n",
       "      <td>1</td>\n",
       "      <td>2</td>\n",
       "      <td>28</td>\n",
       "      <td>0</td>\n",
       "      <td>0.000000</td>\n",
       "      <td>0</td>\n",
       "      <td>0</td>\n",
       "      <td>278720</td>\n",
       "      <td>19</td>\n",
       "      <td>14669.473633</td>\n",
       "      <td>9954.286133</td>\n",
       "    </tr>\n",
       "    <tr>\n",
       "      <th>4</th>\n",
       "      <td>1</td>\n",
       "      <td>0^0</td>\n",
       "      <td>The real problem here is that x^y is a single ...</td>\n",
       "      <td>0 0</td>\n",
       "      <td>real problem x single shorthand refers fundame...</td>\n",
       "      <td>2</td>\n",
       "      <td>2</td>\n",
       "      <td>83</td>\n",
       "      <td>1</td>\n",
       "      <td>0.012048</td>\n",
       "      <td>0</td>\n",
       "      <td>0</td>\n",
       "      <td>355636</td>\n",
       "      <td>27</td>\n",
       "      <td>13171.704102</td>\n",
       "      <td>4284.770996</td>\n",
       "    </tr>\n",
       "    <tr>\n",
       "      <th>5</th>\n",
       "      <td>2</td>\n",
       "      <td>The $0.001 DIY iPhone 4 Antenna Fix</td>\n",
       "      <td>Is this a joke that I'm not getting? Scotch ta...</td>\n",
       "      <td>0 001 diy iphone 4 antenna fix</td>\n",
       "      <td>joke getting scotch tape really problem real f...</td>\n",
       "      <td>0</td>\n",
       "      <td>7</td>\n",
       "      <td>23</td>\n",
       "      <td>1</td>\n",
       "      <td>0.043478</td>\n",
       "      <td>0</td>\n",
       "      <td>0</td>\n",
       "      <td>254697</td>\n",
       "      <td>14</td>\n",
       "      <td>18192.642578</td>\n",
       "      <td>11073.782227</td>\n",
       "    </tr>\n",
       "  </tbody>\n",
       "</table>\n",
       "</div>"
      ],
      "text/plain": [
       "   text_id                                 text  \\\n",
       "0        1                                  0^0   \n",
       "1        1                                  0^0   \n",
       "2        1                                  0^0   \n",
       "3        1                                  0^0   \n",
       "4        1                                  0^0   \n",
       "5        2  The $0.001 DIY iPhone 4 Antenna Fix   \n",
       "\n",
       "                                             comment  \\\n",
       "0  - &quot;0^0. Why? Because mathematicians said ...   \n",
       "1  It&#x27;s very important to note here that 0^0...   \n",
       "2  A word from Knuth on the matter (warning: PDF)...   \n",
       "3  Students: Let&#x27;s come up with some crazy p...   \n",
       "4  The real problem here is that x^y is a single ...   \n",
       "5  Is this a joke that I'm not getting? Scotch ta...   \n",
       "\n",
       "                         prp_text  \\\n",
       "0                             0 0   \n",
       "1                             0 0   \n",
       "2                             0 0   \n",
       "3                             0 0   \n",
       "4                             0 0   \n",
       "5  0 001 diy iphone 4 antenna fix   \n",
       "\n",
       "                                             prp_com  score  text_words_qty  \\\n",
       "0  quot 0 0 mathematician said really true quot d...      3               2   \n",
       "1  x27 important note 0 0 1 shorthand truth mathe...      0               2   \n",
       "2  word knuth matter warning pdf http x2f x2f arx...      4               2   \n",
       "3  student let x27 come crazy proof based individ...      1               2   \n",
       "4  real problem x single shorthand refers fundame...      2               2   \n",
       "5  joke getting scotch tape really problem real f...      0               7   \n",
       "\n",
       "   comment_words_qty  repeat_words  repeat_rate_words  link  quoted   wr_sum  \\\n",
       "0                 35             1           0.028571     0       1   300592   \n",
       "1                174             1           0.005747     0       1  1033845   \n",
       "2                 19             0           0.000000     1       0    97272   \n",
       "3                 28             0           0.000000     0       0   278720   \n",
       "4                 83             1           0.012048     0       0   355636   \n",
       "5                 23             1           0.043478     0       0   254697   \n",
       "\n",
       "   wr_len       wr_rate   wr_rate_tot  \n",
       "0      17  17681.882812   8588.342773  \n",
       "1      64  16153.828125   5941.637695  \n",
       "2       7  13896.000000   5119.579102  \n",
       "3      19  14669.473633   9954.286133  \n",
       "4      27  13171.704102   4284.770996  \n",
       "5      14  18192.642578  11073.782227  "
      ]
     },
     "execution_count": 6,
     "metadata": {},
     "output_type": "execute_result"
    }
   ],
   "source": [
    "df_train.head(6)"
   ]
  },
  {
   "cell_type": "markdown",
   "id": "3df6f2d4",
   "metadata": {},
   "source": [
    "### Columns:\n",
    "\n",
    "* **text_id** - ID of initial text\n",
    "* **text** - initial raw text\n",
    "* **comment** - initial raw comment to text\n",
    "* **prp_text** - preprocessed cleaned text\n",
    "* **prp_com** - preprocessed cleaned comment\n",
    "* **score** - initial labels\n",
    "* **text_words_qty** - number of words in preprocessed text\n",
    "* **comment_words_qty** - number of words in preprocessed comment\n",
    "* **repeat_words** - number of repeated words in text and in comment\n",
    "* **repeat_rate_words** - ratio of repeated words to the number of words in comment\n",
    "* **link** - if there is a link in comment\n",
    "* **quoted** - if there is a quotaion in comment\n",
    "* **wr_sum** - sum of word weights in comment (weight are based on popularity)\n",
    "* **wr_len** - number of popular words in comment\n",
    "* **wr_rate** - ratio of *wr_sum* to *wr_len*\n",
    "* **wr_rate_tot** - ratio of *wr_sum* to *comment_words_qty*"
   ]
  },
  {
   "cell_type": "code",
   "execution_count": 8,
   "id": "fe018128",
   "metadata": {},
   "outputs": [],
   "source": [
    "pd.set_option('max_colwidth', 128)\n",
    "sns.set(rc={'figure.figsize':(16, 6)})"
   ]
  },
  {
   "cell_type": "markdown",
   "id": "b4072ae8",
   "metadata": {},
   "source": [
    "### Lets see if best and worst comments can be separated"
   ]
  },
  {
   "cell_type": "code",
   "execution_count": 13,
   "id": "0cddf01f",
   "metadata": {},
   "outputs": [],
   "source": [
    "df_train['lbl_best'] = np.where(df_train['score']==0, 1, 0) # mark as 1 only best comments\n",
    "df_train['lbl_worst'] = np.where(df_train['score']==4, 1, 0) # mark as 1 only worst comments"
   ]
  },
  {
   "cell_type": "markdown",
   "id": "089d38a1",
   "metadata": {},
   "source": [
    "Distribution of scores by features:"
   ]
  },
  {
   "cell_type": "code",
   "execution_count": 23,
   "id": "a8b4e72e",
   "metadata": {},
   "outputs": [],
   "source": [
    "%matplotlib qt\n",
    "sns.pairplot(df_train.drop(['text_id', 'text', 'comment', 'prp_text', 'prp_com', 'lbl_best', 'lbl_worst'], axis=1).head(2000), hue='score', palette=\"tab10\")\n",
    "plt.show();"
   ]
  },
  {
   "cell_type": "markdown",
   "id": "c3396228",
   "metadata": {},
   "source": [
    "Best comments distribution by features:"
   ]
  },
  {
   "cell_type": "code",
   "execution_count": 24,
   "id": "05581ee9",
   "metadata": {},
   "outputs": [],
   "source": [
    "%matplotlib qt\n",
    "sns.pairplot(df_train.drop(['text_id', 'text', 'comment', 'prp_text', 'prp_com', 'score', 'lbl_worst'], axis=1).head(2000), hue='lbl_best', palette=\"tab10\")\n",
    "plt.show();"
   ]
  },
  {
   "cell_type": "markdown",
   "id": "e8515047",
   "metadata": {},
   "source": [
    "Worst comments distribution by features:"
   ]
  },
  {
   "cell_type": "code",
   "execution_count": 25,
   "id": "99dee30c",
   "metadata": {},
   "outputs": [],
   "source": [
    "%matplotlib qt\n",
    "sns.pairplot(df_train.drop(['text_id', 'text', 'comment', 'prp_text', 'prp_com', 'score', 'lbl_best'], axis=1).head(2000), hue='lbl_worst', palette=\"tab10\")\n",
    "plt.show();"
   ]
  },
  {
   "cell_type": "markdown",
   "id": "3a82bca2",
   "metadata": {},
   "source": [
    "We can see that some features have groups of best comments.  \n",
    "It can be separated by a model."
   ]
  }
 ],
 "metadata": {
  "kernelspec": {
   "display_name": "Python 3 (ipykernel)",
   "language": "python",
   "name": "python3"
  },
  "language_info": {
   "codemirror_mode": {
    "name": "ipython",
    "version": 3
   },
   "file_extension": ".py",
   "mimetype": "text/x-python",
   "name": "python",
   "nbconvert_exporter": "python",
   "pygments_lexer": "ipython3",
   "version": "3.9.12"
  }
 },
 "nbformat": 4,
 "nbformat_minor": 5
}
